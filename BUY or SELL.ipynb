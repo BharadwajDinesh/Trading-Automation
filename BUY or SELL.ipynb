{
 "cells": [
  {
   "cell_type": "code",
   "execution_count": 33,
   "id": "1e7aea05",
   "metadata": {},
   "outputs": [],
   "source": [
    "import math"
   ]
  },
  {
   "cell_type": "markdown",
   "id": "2519cb73",
   "metadata": {},
   "source": [
    "### Array to store different levels"
   ]
  },
  {
   "cell_type": "code",
   "execution_count": 1,
   "id": "d39bef1a",
   "metadata": {},
   "outputs": [],
   "source": [
    "class range:\n",
    "    def __init__(self, low, high, level):\n",
    "        self.low = low\n",
    "        self.high = high\n",
    "        self.level = level "
   ]
  },
  {
   "cell_type": "code",
   "execution_count": 18,
   "id": "a3e7a0c4",
   "metadata": {},
   "outputs": [],
   "source": [
    "r = []\n",
    "r.append(range(100,200,5))\n",
    "r.append(range(200,500,10))\n",
    "r.append(range(500,2000,50))\n",
    "r.append(range(2000,5000,100))"
   ]
  },
  {
   "cell_type": "markdown",
   "id": "b58697f7",
   "metadata": {},
   "source": [
    "### Function to find which range does the price fall into"
   ]
  },
  {
   "cell_type": "code",
   "execution_count": 27,
   "id": "24a10086",
   "metadata": {},
   "outputs": [],
   "source": [
    "def find_range(price):\n",
    "    for i, price_range in enumerate(r):\n",
    "        if price_range.low <= price <= price_range.high:\n",
    "            return i\n",
    "    return None"
   ]
  },
  {
   "cell_type": "code",
   "execution_count": 57,
   "id": "93065d40",
   "metadata": {},
   "outputs": [],
   "source": [
    "day_high = 3495"
   ]
  },
  {
   "cell_type": "code",
   "execution_count": 58,
   "id": "63a0f56b",
   "metadata": {},
   "outputs": [
    {
     "name": "stdout",
     "output_type": "stream",
     "text": [
      "The price falls into range 4 with level 100.\n"
     ]
    }
   ],
   "source": [
    "\n",
    "# Find the range for the given price\n",
    "range_index = find_range(day_high)\n",
    "\n",
    "if range_index is not None:\n",
    "    print(f\"The price falls into range {range_index + 1} with level {r[range_index].level}.\")\n",
    "else:\n",
    "    print(\"The price doesn't fall into any defined range.\")"
   ]
  },
  {
   "cell_type": "markdown",
   "id": "46d62d45",
   "metadata": {},
   "source": [
    "### Finding the nearest buying point level."
   ]
  },
  {
   "cell_type": "code",
   "execution_count": 59,
   "id": "23a7ab5e",
   "metadata": {},
   "outputs": [
    {
     "data": {
      "text/plain": [
       "3500"
      ]
     },
     "execution_count": 59,
     "metadata": {},
     "output_type": "execute_result"
    }
   ],
   "source": [
    "price = day_high\n",
    "level = r[range_index].level\n",
    "base = r[range_index].low\n",
    "\n",
    "x = price - base\n",
    "y = math.ceil(x/level)\n",
    "z = (y*level) + base\n",
    "z"
   ]
  },
  {
   "cell_type": "code",
   "execution_count": 60,
   "id": "2034675f",
   "metadata": {},
   "outputs": [],
   "source": [
    "# One percent of the nearest level\n",
    "one_per = z - (z*0.01)"
   ]
  },
  {
   "cell_type": "code",
   "execution_count": 61,
   "id": "3dbed558",
   "metadata": {},
   "outputs": [],
   "source": [
    "if price >= one_per:\n",
    "    buy_range = z\n",
    "else:\n",
    "    buy_range = day_high\n",
    "    "
   ]
  },
  {
   "cell_type": "code",
   "execution_count": 62,
   "id": "169124cc",
   "metadata": {},
   "outputs": [
    {
     "data": {
      "text/plain": [
       "3500"
      ]
     },
     "execution_count": 62,
     "metadata": {},
     "output_type": "execute_result"
    }
   ],
   "source": [
    "buy_range"
   ]
  },
  {
   "cell_type": "code",
   "execution_count": null,
   "id": "eb599638",
   "metadata": {},
   "outputs": [],
   "source": []
  }
 ],
 "metadata": {
  "kernelspec": {
   "display_name": "Python 3 (ipykernel)",
   "language": "python",
   "name": "python3"
  },
  "language_info": {
   "codemirror_mode": {
    "name": "ipython",
    "version": 3
   },
   "file_extension": ".py",
   "mimetype": "text/x-python",
   "name": "python",
   "nbconvert_exporter": "python",
   "pygments_lexer": "ipython3",
   "version": "3.9.13"
  }
 },
 "nbformat": 4,
 "nbformat_minor": 5
}

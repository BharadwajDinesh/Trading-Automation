{
 "cells": [
  {
   "cell_type": "markdown",
   "id": "7a9d730f",
   "metadata": {},
   "source": [
    "### Buy Transaction: If the price crosses the day's high."
   ]
  },
  {
   "cell_type": "code",
   "execution_count": 1,
   "id": "8ee0c595",
   "metadata": {},
   "outputs": [],
   "source": [
    "from tvDatafeed import TvDatafeed,Interval\n",
    "from plotly.subplots import make_subplots"
   ]
  },
  {
   "cell_type": "code",
   "execution_count": 2,
   "id": "de7e4a5f",
   "metadata": {},
   "outputs": [],
   "source": [
    "# get credentials for tradingview\n",
    "username = 'bharathd7900'\n",
    "password = 'TradeView@2024'"
   ]
  },
  {
   "cell_type": "code",
   "execution_count": 3,
   "id": "85683a0c",
   "metadata": {},
   "outputs": [],
   "source": [
    "tv = TvDatafeed(username=username, password=password)"
   ]
  },
  {
   "cell_type": "code",
   "execution_count": 10,
   "id": "2c83486e",
   "metadata": {},
   "outputs": [
    {
     "data": {
      "text/html": [
       "<div>\n",
       "<style scoped>\n",
       "    .dataframe tbody tr th:only-of-type {\n",
       "        vertical-align: middle;\n",
       "    }\n",
       "\n",
       "    .dataframe tbody tr th {\n",
       "        vertical-align: top;\n",
       "    }\n",
       "\n",
       "    .dataframe thead th {\n",
       "        text-align: right;\n",
       "    }\n",
       "</style>\n",
       "<table border=\"1\" class=\"dataframe\">\n",
       "  <thead>\n",
       "    <tr style=\"text-align: right;\">\n",
       "      <th></th>\n",
       "      <th>symbol</th>\n",
       "      <th>open</th>\n",
       "      <th>high</th>\n",
       "      <th>low</th>\n",
       "      <th>close</th>\n",
       "      <th>volume</th>\n",
       "    </tr>\n",
       "    <tr>\n",
       "      <th>datetime</th>\n",
       "      <th></th>\n",
       "      <th></th>\n",
       "      <th></th>\n",
       "      <th></th>\n",
       "      <th></th>\n",
       "      <th></th>\n",
       "    </tr>\n",
       "  </thead>\n",
       "  <tbody>\n",
       "    <tr>\n",
       "      <th>2024-03-13 09:15:00</th>\n",
       "      <td>NSE:INFY</td>\n",
       "      <td>1612.9</td>\n",
       "      <td>1624.5</td>\n",
       "      <td>1598.55</td>\n",
       "      <td>1604.9</td>\n",
       "      <td>3770365.0</td>\n",
       "    </tr>\n",
       "  </tbody>\n",
       "</table>\n",
       "</div>"
      ],
      "text/plain": [
       "                       symbol    open    high      low   close     volume\n",
       "datetime                                                                 \n",
       "2024-03-13 09:15:00  NSE:INFY  1612.9  1624.5  1598.55  1604.9  3770365.0"
      ]
     },
     "execution_count": 10,
     "metadata": {},
     "output_type": "execute_result"
    }
   ],
   "source": [
    "data=tv.get_hist('INFY','NSE',interval=Interval.in_daily,n_bars=1)\n",
    "data"
   ]
  },
  {
   "cell_type": "code",
   "execution_count": 21,
   "id": "491f4b65",
   "metadata": {},
   "outputs": [
    {
     "data": {
      "text/plain": [
       "1604.9"
      ]
     },
     "execution_count": 21,
     "metadata": {},
     "output_type": "execute_result"
    }
   ],
   "source": [
    "data.iloc[0]['close']"
   ]
  },
  {
   "cell_type": "code",
   "execution_count": 30,
   "id": "778bc9df",
   "metadata": {},
   "outputs": [
    {
     "name": "stdout",
     "output_type": "stream",
     "text": [
      "No Entry\n"
     ]
    }
   ],
   "source": [
    "data=tv.get_hist('INFY','NSE',interval=Interval.in_daily,n_bars=1)\n",
    "if data.iloc[0]['close'] > data.iloc[0]['high']:\n",
    "    print(\"BUY\")\n",
    "elif data.iloc[0]['close'] < data.iloc[0]['low']:\n",
    "    print(\"SHORT\")\n",
    "else:\n",
    "    print(\"No Entry\")"
   ]
  },
  {
   "cell_type": "code",
   "execution_count": 33,
   "id": "57e0c20c",
   "metadata": {},
   "outputs": [
    {
     "data": {
      "text/html": [
       "<div>\n",
       "<style scoped>\n",
       "    .dataframe tbody tr th:only-of-type {\n",
       "        vertical-align: middle;\n",
       "    }\n",
       "\n",
       "    .dataframe tbody tr th {\n",
       "        vertical-align: top;\n",
       "    }\n",
       "\n",
       "    .dataframe thead th {\n",
       "        text-align: right;\n",
       "    }\n",
       "</style>\n",
       "<table border=\"1\" class=\"dataframe\">\n",
       "  <thead>\n",
       "    <tr style=\"text-align: right;\">\n",
       "      <th></th>\n",
       "      <th>high</th>\n",
       "      <th>low</th>\n",
       "      <th>close</th>\n",
       "    </tr>\n",
       "    <tr>\n",
       "      <th>datetime</th>\n",
       "      <th></th>\n",
       "      <th></th>\n",
       "      <th></th>\n",
       "    </tr>\n",
       "  </thead>\n",
       "  <tbody>\n",
       "    <tr>\n",
       "      <th>2024-03-13 09:15:00</th>\n",
       "      <td>1624.5</td>\n",
       "      <td>1598.55</td>\n",
       "      <td>1614.0</td>\n",
       "    </tr>\n",
       "  </tbody>\n",
       "</table>\n",
       "</div>"
      ],
      "text/plain": [
       "                       high      low   close\n",
       "datetime                                    \n",
       "2024-03-13 09:15:00  1624.5  1598.55  1614.0"
      ]
     },
     "execution_count": 33,
     "metadata": {},
     "output_type": "execute_result"
    }
   ],
   "source": [
    "data[['high', 'low', 'close']]"
   ]
  },
  {
   "cell_type": "code",
   "execution_count": null,
   "id": "c3d400af",
   "metadata": {},
   "outputs": [],
   "source": [
    "number = 120\n",
    "if data['close'] >= 100 and data['close'] <= 200:\n",
    "    \n",
    "    buy_range(number, value_range):\n",
    "        \n",
    "    "
   ]
  },
  {
   "cell_type": "code",
   "execution_count": 15,
   "id": "5d118290",
   "metadata": {},
   "outputs": [],
   "source": [
    "value_range = [100, 105, 110, 115, 120, 125, 130, 135, 140, 145, 150, 155, 160, 165, 170, 175, 180, 185, 190, 195, 200]\n",
    "number = 122"
   ]
  },
  {
   "cell_type": "code",
   "execution_count": null,
   "id": "ef650718",
   "metadata": {},
   "outputs": [],
   "source": []
  },
  {
   "cell_type": "code",
   "execution_count": 41,
   "id": "d786805e",
   "metadata": {},
   "outputs": [],
   "source": [
    "def buy_range(number, value_range):\n",
    "    # Calculate absolute differences\n",
    "    differences = [abs(number - value) for value in value_range]\n",
    "    # Find the index of the minimum difference\n",
    "    min_index = differences.index(min(differences))\n",
    "    # Retrieve the corresponding value from the range\n",
    "    nearest_value = value_range[min_index]\n",
    "    print(nearest_value)"
   ]
  },
  {
   "cell_type": "code",
   "execution_count": null,
   "id": "b7c84a1f",
   "metadata": {},
   "outputs": [],
   "source": [
    "number = 120\n",
    "while( number >= 100 and number <= 200):\n",
    "    if number in value_range:\n",
    "        buy = number\n",
    "return buy\n",
    "#     buy_range(number, value_range)\n"
   ]
  },
  {
   "cell_type": "code",
   "execution_count": 40,
   "id": "f17ef9a9",
   "metadata": {},
   "outputs": [
    {
     "data": {
      "text/plain": [
       "1.2"
      ]
     },
     "execution_count": 40,
     "metadata": {},
     "output_type": "execute_result"
    }
   ],
   "source": [
    "0.01*120"
   ]
  },
  {
   "cell_type": "code",
   "execution_count": null,
   "id": "e7d1aa06",
   "metadata": {},
   "outputs": [],
   "source": [
    "121.2"
   ]
  },
  {
   "cell_type": "code",
   "execution_count": 32,
   "id": "0ac8a003",
   "metadata": {},
   "outputs": [],
   "source": [
    "def find_range(input_number, value_range, vol_type):\n",
    "    # If current high is in value range returns buy range as current high value\n",
    "    if input_number in value_range: \n",
    "        return input_number\n",
    "\n",
    "    # Iterate through pairs of numbers in the range\n",
    "    for i in range(len(value_range) - 1):\n",
    "        # Check if input_number falls within the range\n",
    "        if input_number >= value_range[i] and input_number <= value_range[i+1]:\n",
    "            # If vol_type is 'BUY', return the maximum of the two numbers\n",
    "            if vol_type == 'BUY':\n",
    "                return max(value_range[i], value_range[i+1])\n",
    "            # If vol_type is 'SELL', return the minimum of the two numbers\n",
    "            else:\n",
    "                return min(value_range[i], value_range[i+1])\n",
    "            "
   ]
  },
  {
   "cell_type": "code",
   "execution_count": 33,
   "id": "b72e6c37",
   "metadata": {},
   "outputs": [
    {
     "data": {
      "text/plain": [
       "120"
      ]
     },
     "execution_count": 33,
     "metadata": {},
     "output_type": "execute_result"
    }
   ],
   "source": [
    "find_range(120, value_range,'BUY')"
   ]
  },
  {
   "cell_type": "code",
   "execution_count": 9,
   "id": "eeabbe32",
   "metadata": {},
   "outputs": [
    {
     "ename": "SyntaxError",
     "evalue": "'return' outside function (2373962684.py, line 4)",
     "output_type": "error",
     "traceback": [
      "\u001b[1;36m  File \u001b[1;32m\"C:\\Users\\INDIA\\AppData\\Local\\Temp\\ipykernel_15376\\2373962684.py\"\u001b[1;36m, line \u001b[1;32m4\u001b[0m\n\u001b[1;33m    return input_number\u001b[0m\n\u001b[1;37m    ^\u001b[0m\n\u001b[1;31mSyntaxError\u001b[0m\u001b[1;31m:\u001b[0m 'return' outside function\n"
     ]
    }
   ],
   "source": [
    "input_number = 120\n",
    "for i in range(len(value_range) - 1):\n",
    "    if input_number == value_range[i]:\n",
    "        return input_number"
   ]
  },
  {
   "cell_type": "code",
   "execution_count": null,
   "id": "ffde697c",
   "metadata": {},
   "outputs": [],
   "source": []
  }
 ],
 "metadata": {
  "kernelspec": {
   "display_name": "Python 3 (ipykernel)",
   "language": "python",
   "name": "python3"
  },
  "language_info": {
   "codemirror_mode": {
    "name": "ipython",
    "version": 3
   },
   "file_extension": ".py",
   "mimetype": "text/x-python",
   "name": "python",
   "nbconvert_exporter": "python",
   "pygments_lexer": "ipython3",
   "version": "3.9.13"
  }
 },
 "nbformat": 4,
 "nbformat_minor": 5
}

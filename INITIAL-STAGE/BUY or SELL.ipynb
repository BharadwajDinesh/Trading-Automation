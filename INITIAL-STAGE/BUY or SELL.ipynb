{
 "cells": [
  {
   "cell_type": "code",
   "execution_count": 33,
   "id": "4527c138",
   "metadata": {},
   "outputs": [],
   "source": [
    "import math"
   ]
  },
  {
   "cell_type": "markdown",
   "id": "77802842",
   "metadata": {},
   "source": [
    "### Array to store different levels"
   ]
  },
  {
   "cell_type": "code",
   "execution_count": 1,
   "id": "d39bef1a",
   "metadata": {},
   "outputs": [],
   "source": [
    "class range:\n",
    "    def __init__(self, low, high, level):\n",
    "        self.low = low\n",
    "        self.high = high\n",
    "        self.level = level "
   ]
  },
  {
   "cell_type": "code",
   "execution_count": 18,
   "id": "db40057f",
   "metadata": {},
   "outputs": [],
   "source": [
    "r = []\n",
    "r.append(range(100,200,5))\n",
    "r.append(range(200,500,10))\n",
    "r.append(range(500,2000,50))\n",
    "r.append(range(2000,5000,100))"
   ]
  },
  {
   "cell_type": "markdown",
   "id": "be4baae9",
   "metadata": {},
   "source": [
    "### Function to find which range does the price fall into"
   ]
  },
  {
   "cell_type": "code",
   "execution_count": 27,
   "id": "b91b07aa",
   "metadata": {},
   "outputs": [],
   "source": [
    "def find_range(price):\n",
    "    for i, price_range in enumerate(r):\n",
    "        if price_range.low <= price <= price_range.high:\n",
    "            return i\n",
    "    return None"
   ]
  },
  {
   "cell_type": "code",
   "execution_count": 64,
   "id": "cb8c8200",
   "metadata": {},
   "outputs": [],
   "source": [
    "day_high = 102"
   ]
  },
  {
   "cell_type": "code",
   "execution_count": 65,
   "id": "871f962c",
   "metadata": {},
   "outputs": [
    {
     "name": "stdout",
     "output_type": "stream",
     "text": [
      "The price falls into range 1 with level 5.\n"
     ]
    }
   ],
   "source": [
    "\n",
    "# Find the range for the given price\n",
    "range_index = find_range(day_high)\n",
    "\n",
    "if range_index is not None:\n",
    "    print(f\"The price falls into range {range_index + 1} with level {r[range_index].level}.\")\n",
    "else:\n",
    "    print(\"The price doesn't fall into any defined range.\")"
   ]
  },
  {
   "cell_type": "markdown",
   "id": "aae72f39",
   "metadata": {},
   "source": [
    "### Finding the nearest buying point level."
   ]
  },
  {
   "cell_type": "code",
   "execution_count": 66,
   "id": "c0bbe164",
   "metadata": {},
   "outputs": [
    {
     "data": {
      "text/plain": [
       "105"
      ]
     },
     "execution_count": 66,
     "metadata": {},
     "output_type": "execute_result"
    }
   ],
   "source": [
    "price = day_high\n",
    "level = r[range_index].level\n",
    "base = r[range_index].low\n",
    "\n",
    "x = price - base\n",
    "y = math.ceil(x/level)\n",
    "z = (y*level) + base\n",
    "z"
   ]
  },
  {
   "cell_type": "code",
   "execution_count": 67,
   "id": "a470cd75",
   "metadata": {},
   "outputs": [
    {
     "data": {
      "text/plain": [
       "103.95"
      ]
     },
     "execution_count": 67,
     "metadata": {},
     "output_type": "execute_result"
    }
   ],
   "source": [
    "# One percent of the nearest level\n",
    "one_per = z - (z*0.01)\n",
    "one_per"
   ]
  },
  {
   "cell_type": "code",
   "execution_count": 68,
   "id": "a72a5abb",
   "metadata": {},
   "outputs": [],
   "source": [
    "if price >= one_per:\n",
    "    buy_range = z\n",
    "else:\n",
    "    buy_range = day_high\n",
    "    "
   ]
  },
  {
   "cell_type": "code",
   "execution_count": 69,
   "id": "b821dcec",
   "metadata": {},
   "outputs": [
    {
     "data": {
      "text/plain": [
       "102"
      ]
     },
     "execution_count": 69,
     "metadata": {},
     "output_type": "execute_result"
    }
   ],
   "source": [
    "buy_range"
   ]
  },
  {
   "cell_type": "markdown",
   "id": "3ef15bda",
   "metadata": {},
   "source": [
    "### Finding the nearest Selling point level."
   ]
  },
  {
   "cell_type": "code",
   "execution_count": 83,
   "id": "09a2b9b1",
   "metadata": {},
   "outputs": [],
   "source": [
    "day_low = 4645"
   ]
  },
  {
   "cell_type": "code",
   "execution_count": 84,
   "id": "d483bb7b",
   "metadata": {},
   "outputs": [
    {
     "data": {
      "text/plain": [
       "4645"
      ]
     },
     "execution_count": 84,
     "metadata": {},
     "output_type": "execute_result"
    }
   ],
   "source": [
    "price = day_low\n",
    "level = r[range_index].level\n",
    "base = r[range_index].low\n",
    "\n",
    "x = price - base\n",
    "y = math.floor(x/level)\n",
    "z = (y*level) + base\n",
    "z"
   ]
  },
  {
   "cell_type": "code",
   "execution_count": 85,
   "id": "a0720fa6",
   "metadata": {},
   "outputs": [
    {
     "data": {
      "text/plain": [
       "4691.45"
      ]
     },
     "execution_count": 85,
     "metadata": {},
     "output_type": "execute_result"
    }
   ],
   "source": [
    "# One percent of the nearest level\n",
    "one_per = z + (z*0.01)\n",
    "one_per"
   ]
  },
  {
   "cell_type": "code",
   "execution_count": 86,
   "id": "493d8195",
   "metadata": {},
   "outputs": [],
   "source": [
    "if price <= one_per:\n",
    "    sell_range = z\n",
    "else:\n",
    "    sell_range = day_low\n",
    "    "
   ]
  },
  {
   "cell_type": "code",
   "execution_count": 87,
   "id": "20e0fa76",
   "metadata": {},
   "outputs": [
    {
     "data": {
      "text/plain": [
       "4645"
      ]
     },
     "execution_count": 87,
     "metadata": {},
     "output_type": "execute_result"
    }
   ],
   "source": [
    "sell_range"
   ]
  },
  {
   "cell_type": "code",
   "execution_count": null,
   "id": "61596420",
   "metadata": {},
   "outputs": [],
   "source": []
  }
 ],
 "metadata": {
  "kernelspec": {
   "display_name": "Python 3 (ipykernel)",
   "language": "python",
   "name": "python3"
  },
  "language_info": {
   "codemirror_mode": {
    "name": "ipython",
    "version": 3
   },
   "file_extension": ".py",
   "mimetype": "text/x-python",
   "name": "python",
   "nbconvert_exporter": "python",
   "pygments_lexer": "ipython3",
   "version": "3.9.13"
  }
 },
 "nbformat": 4,
 "nbformat_minor": 5
}

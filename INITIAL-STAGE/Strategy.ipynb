{
 "cells": [
  {
   "cell_type": "code",
   "execution_count": null,
   "id": "b13d710f",
   "metadata": {
    "scrolled": true
   },
   "outputs": [],
   "source": [
    "# 1. Transaction Hits Target of 5% without Going Close to Stop Loss\n",
    "# 2. Transaction Hits Stop Loss of 1%, and Position Deteriorates**\n",
    "# 3. Transaction Hits Target of 5% after Approaching 1% Stop Loss**"
   ]
  },
  {
   "cell_type": "code",
   "execution_count": 22,
   "id": "e4b94930",
   "metadata": {},
   "outputs": [
    {
     "name": "stdout",
     "output_type": "stream",
     "text": [
      "At price 106: Transaction Hits Target of 5% \n"
     ]
    }
   ],
   "source": [
    "class TradingStrategy:\n",
    "    def __init__(self, entry_price, target, stop_loss):\n",
    "        self.entry_price = entry_price\n",
    "        self.target = target\n",
    "        self.stop_loss = stop_loss\n",
    "        self.position_open = True\n",
    "\n",
    "    def execute_trade(self, current_price):\n",
    "        if self.position_open:\n",
    "            if current_price >= self.entry_price * (1 + self.target):\n",
    "                self.position_open = False\n",
    "                return \"Transaction Hits Target of 5% \"\n",
    "            elif current_price <= self.entry_price * (1 - self.stop_loss):\n",
    "                self.position_open = False\n",
    "                return \"Transaction Hits Stop Loss of 1% \"\n",
    "            elif current_price >= self.entry_price * (1 + self.target) and current_price > self.entry_price * (1 - self.stop_loss):\n",
    "                self.position_open = False\n",
    "                return \"Transaction Hits Target of 5% after Approaching 1% Stop Loss\"\n",
    "        return \"Trade still ongoing\"\n",
    "\n",
    "# Example usage\n",
    "entry_price = 100  # Initial entry price\n",
    "target_percent = 0.05  # 5% target\n",
    "stop_loss_percent = 0.01  # 1% stop loss\n",
    "\n",
    "# Creating an instance of the trading strategy\n",
    "strategy = TradingStrategy(entry_price, target_percent, stop_loss_percent)\n",
    "\n",
    "# Simulating price changes (Realtime data)\n",
    "price_changes = [1]\n",
    "\n",
    "# Simulating trade execution based on price changes\n",
    "for price in price_changes:\n",
    "    trade_outcome = strategy.execute_trade(price)\n",
    "    print(f\"At price {price}: {trade_outcome}\")\n",
    "    if not strategy.position_open:\n",
    "        break"
   ]
  },
  {
   "cell_type": "code",
   "execution_count": null,
   "id": "1c3a9058",
   "metadata": {},
   "outputs": [],
   "source": []
  }
 ],
 "metadata": {
  "kernelspec": {
   "display_name": "Python 3 (ipykernel)",
   "language": "python",
   "name": "python3"
  },
  "language_info": {
   "codemirror_mode": {
    "name": "ipython",
    "version": 3
   },
   "file_extension": ".py",
   "mimetype": "text/x-python",
   "name": "python",
   "nbconvert_exporter": "python",
   "pygments_lexer": "ipython3",
   "version": "3.9.13"
  }
 },
 "nbformat": 4,
 "nbformat_minor": 5
}
